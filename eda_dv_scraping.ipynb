{
  "nbformat": 4,
  "nbformat_minor": 0,
  "metadata": {
    "colab": {
      "provenance": [],
      "authorship_tag": "ABX9TyPbuR/WuauWUr3pqNPIl0hx",
      "include_colab_link": true
    },
    "kernelspec": {
      "name": "python3",
      "display_name": "Python 3"
    },
    "language_info": {
      "name": "python"
    }
  },
  "cells": [
    {
      "cell_type": "markdown",
      "metadata": {
        "id": "view-in-github",
        "colab_type": "text"
      },
      "source": [
        "<a href=\"https://colab.research.google.com/github/akhilendra2k25/eda-dv/blob/test-branch/eda_dv_scraping.ipynb\" target=\"_parent\"><img src=\"https://colab.research.google.com/assets/colab-badge.svg\" alt=\"Open In Colab\"/></a>"
      ]
    },
    {
      "cell_type": "markdown",
      "source": [
        "# **Exploratory Data Analysys & Data Visualization - Web Scraping**\n",
        "\n",
        "![Colab](https://github.com/user-attachments/assets/5c871f71-cb3f-4858-bd09-3a6a24c8c10a)"
      ],
      "metadata": {
        "id": "Sa7ndBTd5wHn"
      }
    },
    {
      "cell_type": "markdown",
      "source": [
        "## This repo is to explore web scraping using Beautiful Soup library.\n",
        "\n",
        "There are other python libraries which can be used for this purpose similar to BS4 like Scrapy. Selenium is used for automation of the scraping process in professional setups. Requests is another library that is used for making 'GET' requests to the Web Server if the website you are trying to scrape data from."
      ],
      "metadata": {
        "id": "kSLMzfnX721X"
      }
    },
    {
      "cell_type": "code",
      "execution_count": null,
      "metadata": {
        "id": "0ZAI6pnz5gjV"
      },
      "outputs": [],
      "source": []
    },
    {
      "cell_type": "code",
      "source": [],
      "metadata": {
        "id": "REgrtbYy72ZU"
      },
      "execution_count": null,
      "outputs": []
    },
    {
      "cell_type": "markdown",
      "source": [],
      "metadata": {
        "id": "0WbV7IeJ71--"
      }
    },
    {
      "cell_type": "code",
      "source": [],
      "metadata": {
        "id": "7l-u9p_476Qh"
      },
      "execution_count": null,
      "outputs": []
    },
    {
      "cell_type": "markdown",
      "source": [],
      "metadata": {
        "id": "KXd_CV-Q75Da"
      }
    },
    {
      "cell_type": "code",
      "source": [],
      "metadata": {
        "id": "Ru1uRhQw7-ir"
      },
      "execution_count": null,
      "outputs": []
    },
    {
      "cell_type": "markdown",
      "source": [],
      "metadata": {
        "id": "YqwjLERD7_IV"
      }
    },
    {
      "cell_type": "code",
      "source": [],
      "metadata": {
        "id": "7fTHPQVY8ATU"
      },
      "execution_count": null,
      "outputs": []
    }
  ]
}